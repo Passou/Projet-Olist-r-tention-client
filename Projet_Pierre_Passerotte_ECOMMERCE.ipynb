{
 "cells": [
  {
   "cell_type": "markdown",
   "metadata": {},
   "source": [
    "# TABLES DES MATIERES\n",
    "\n",
    "\n",
    "# 1) LIBRAIRIES  \"\"\"\"\"\"\"\"\"\"\"\"\"\"\"\"\"\"\"\"\"\"\"\"\"\"\"\"\"\"\"\"\"  Cell 1\n",
    "\n",
    "# 2) INTRODUCTION \"\"\"\"\"\"\"\"\"\"\"\"\"\"\"\"\"\"\"\"\"\"\"\"Cells 2 to 10\n",
    "\n",
    "# 3) Consolidation des données par Ordres\"\" Cells 11  to 26\n",
    "\n",
    "# 3) Consolidation des données par Clients\"\"  Cells 27 to 33\n",
    "\n",
    "# 4) Problématique: Rétention \"\"\"\"\"\"\"\"\"\"\"\"\"\" Cells  34 to 59       \n",
    "\n",
    "# 5) Bibliographies \"\"\"\"\"\"\"\"\"\"\"\"\"\"\"\"\"\"\"\"\"\"\"\"\" Cell 60"
   ]
  },
  {
   "cell_type": "markdown",
   "metadata": {},
   "source": [
    "# 1) LIBRAIRIES"
   ]
  },
  {
   "cell_type": "code",
   "execution_count": 1,
   "metadata": {},
   "outputs": [],
   "source": [
    "import pandas as pd\n",
    "import unicodedata\n",
    "import calendar\n",
    "import matplotlib.pyplot as plt\n",
    "import numpy as np\n",
    "import seaborn as sns\n",
    "from plotnine import *\n",
    "import matplotlib as mpl\n",
    "import scipy.stats\n",
    "mpl.rcParams['patch.force_edgecolor'] = True\n",
    "%matplotlib inline"
   ]
  },
  {
   "cell_type": "markdown",
   "metadata": {},
   "source": [
    "# 2) INTRODUCTION "
   ]
  },
  {
   "cell_type": "markdown",
   "metadata": {},
   "source": [
    "### Importer des tables"
   ]
  },
  {
   "cell_type": "code",
   "execution_count": 2,
   "metadata": {},
   "outputs": [],
   "source": [
    "orders = pd.read_csv('olist_orders_dataset.csv', delimiter=\",\")\n",
    "payment = pd.read_csv('olist_order_payments_dataset.csv', delimiter=\",\")\n",
    "customers=  pd.read_csv('olist_customers_dataset.csv', delimiter=\",\")\n",
    "sellers=  pd.read_csv('olist_sellers_dataset.csv', delimiter=\",\")\n",
    "products=  pd.read_csv('olist_products_dataset.csv', delimiter=\",\")\n",
    "reviews=  pd.read_csv('olist_order_reviews_dataset.csv', delimiter=\",\")\n",
    "items=  pd.read_csv('olist_order_items_dataset.csv', delimiter=\",\")\n",
    "geolocation=  pd.read_csv('olist_geolocation_dataset.csv', delimiter=\",\")\n",
    "product_category_name_translation = pd.read_csv('product_category_name_translation.csv')"
   ]
  },
  {
   "cell_type": "markdown",
   "metadata": {},
   "source": [
    "#### Vue d'ensemble de notre base de données: "
   ]
  },
  {
   "cell_type": "code",
   "execution_count": 3,
   "metadata": {
    "scrolled": true
   },
   "outputs": [
    {
     "data": {
      "text/html": [
       "<style  type=\"text/css\" >\n",
       "#T_993ff076_5a5d_11eb_8b42_204747e9b9cbrow0_col3{\n",
       "            background-color:  #445acc;\n",
       "            color:  #f1f1f1;\n",
       "        }#T_993ff076_5a5d_11eb_8b42_204747e9b9cbrow0_col4{\n",
       "            background-color:  #b9d0f9;\n",
       "            color:  #000000;\n",
       "        }#T_993ff076_5a5d_11eb_8b42_204747e9b9cbrow1_col3,#T_993ff076_5a5d_11eb_8b42_204747e9b9cbrow1_col4,#T_993ff076_5a5d_11eb_8b42_204747e9b9cbrow2_col3,#T_993ff076_5a5d_11eb_8b42_204747e9b9cbrow2_col4,#T_993ff076_5a5d_11eb_8b42_204747e9b9cbrow3_col3,#T_993ff076_5a5d_11eb_8b42_204747e9b9cbrow3_col4,#T_993ff076_5a5d_11eb_8b42_204747e9b9cbrow6_col3,#T_993ff076_5a5d_11eb_8b42_204747e9b9cbrow6_col4,#T_993ff076_5a5d_11eb_8b42_204747e9b9cbrow7_col3,#T_993ff076_5a5d_11eb_8b42_204747e9b9cbrow7_col4{\n",
       "            background-color:  #3b4cc0;\n",
       "            color:  #f1f1f1;\n",
       "        }#T_993ff076_5a5d_11eb_8b42_204747e9b9cbrow4_col3{\n",
       "            background-color:  #3f53c6;\n",
       "            color:  #f1f1f1;\n",
       "        }#T_993ff076_5a5d_11eb_8b42_204747e9b9cbrow4_col4,#T_993ff076_5a5d_11eb_8b42_204747e9b9cbrow5_col3{\n",
       "            background-color:  #b40426;\n",
       "            color:  #f1f1f1;\n",
       "        }#T_993ff076_5a5d_11eb_8b42_204747e9b9cbrow5_col4{\n",
       "            background-color:  #8db0fe;\n",
       "            color:  #000000;\n",
       "        }</style><table id=\"T_993ff076_5a5d_11eb_8b42_204747e9b9cb\" ><thead>    <tr>        <th class=\"blank level0\" ></th>        <th class=\"col_heading level0 col0\" >bdd</th>        <th class=\"col_heading level0 col1\" >dimensions</th>        <th class=\"col_heading level0 col2\" >colonnes</th>        <th class=\"col_heading level0 col3\" >null_no</th>        <th class=\"col_heading level0 col4\" >null_cols_no</th>        <th class=\"col_heading level0 col5\" >null_cols</th>    </tr></thead><tbody>\n",
       "                <tr>\n",
       "                        <th id=\"T_993ff076_5a5d_11eb_8b42_204747e9b9cblevel0_row0\" class=\"row_heading level0 row0\" >0</th>\n",
       "                        <td id=\"T_993ff076_5a5d_11eb_8b42_204747e9b9cbrow0_col0\" class=\"data row0 col0\" >orders</td>\n",
       "                        <td id=\"T_993ff076_5a5d_11eb_8b42_204747e9b9cbrow0_col1\" class=\"data row0 col1\" >(99441, 8)</td>\n",
       "                        <td id=\"T_993ff076_5a5d_11eb_8b42_204747e9b9cbrow0_col2\" class=\"data row0 col2\" >order_id, customer_id, order_status, order_purchase_timestamp, order_approved_at, order_delivered_carrier_date, order_delivered_customer_date, order_estimated_delivery_date</td>\n",
       "                        <td id=\"T_993ff076_5a5d_11eb_8b42_204747e9b9cbrow0_col3\" class=\"data row0 col3\" >4908</td>\n",
       "                        <td id=\"T_993ff076_5a5d_11eb_8b42_204747e9b9cbrow0_col4\" class=\"data row0 col4\" >3</td>\n",
       "                        <td id=\"T_993ff076_5a5d_11eb_8b42_204747e9b9cbrow0_col5\" class=\"data row0 col5\" >order_approved_at, order_delivered_carrier_date, order_delivered_customer_date</td>\n",
       "            </tr>\n",
       "            <tr>\n",
       "                        <th id=\"T_993ff076_5a5d_11eb_8b42_204747e9b9cblevel0_row1\" class=\"row_heading level0 row1\" >1</th>\n",
       "                        <td id=\"T_993ff076_5a5d_11eb_8b42_204747e9b9cbrow1_col0\" class=\"data row1 col0\" >payment</td>\n",
       "                        <td id=\"T_993ff076_5a5d_11eb_8b42_204747e9b9cbrow1_col1\" class=\"data row1 col1\" >(103886, 5)</td>\n",
       "                        <td id=\"T_993ff076_5a5d_11eb_8b42_204747e9b9cbrow1_col2\" class=\"data row1 col2\" >order_id, payment_sequential, payment_type, payment_installments, payment_value</td>\n",
       "                        <td id=\"T_993ff076_5a5d_11eb_8b42_204747e9b9cbrow1_col3\" class=\"data row1 col3\" >0</td>\n",
       "                        <td id=\"T_993ff076_5a5d_11eb_8b42_204747e9b9cbrow1_col4\" class=\"data row1 col4\" >0</td>\n",
       "                        <td id=\"T_993ff076_5a5d_11eb_8b42_204747e9b9cbrow1_col5\" class=\"data row1 col5\" ></td>\n",
       "            </tr>\n",
       "            <tr>\n",
       "                        <th id=\"T_993ff076_5a5d_11eb_8b42_204747e9b9cblevel0_row2\" class=\"row_heading level0 row2\" >2</th>\n",
       "                        <td id=\"T_993ff076_5a5d_11eb_8b42_204747e9b9cbrow2_col0\" class=\"data row2 col0\" >customers</td>\n",
       "                        <td id=\"T_993ff076_5a5d_11eb_8b42_204747e9b9cbrow2_col1\" class=\"data row2 col1\" >(99441, 5)</td>\n",
       "                        <td id=\"T_993ff076_5a5d_11eb_8b42_204747e9b9cbrow2_col2\" class=\"data row2 col2\" >customer_id, customer_unique_id, customer_zip_code_prefix, customer_city, customer_state</td>\n",
       "                        <td id=\"T_993ff076_5a5d_11eb_8b42_204747e9b9cbrow2_col3\" class=\"data row2 col3\" >0</td>\n",
       "                        <td id=\"T_993ff076_5a5d_11eb_8b42_204747e9b9cbrow2_col4\" class=\"data row2 col4\" >0</td>\n",
       "                        <td id=\"T_993ff076_5a5d_11eb_8b42_204747e9b9cbrow2_col5\" class=\"data row2 col5\" ></td>\n",
       "            </tr>\n",
       "            <tr>\n",
       "                        <th id=\"T_993ff076_5a5d_11eb_8b42_204747e9b9cblevel0_row3\" class=\"row_heading level0 row3\" >3</th>\n",
       "                        <td id=\"T_993ff076_5a5d_11eb_8b42_204747e9b9cbrow3_col0\" class=\"data row3 col0\" >sellers</td>\n",
       "                        <td id=\"T_993ff076_5a5d_11eb_8b42_204747e9b9cbrow3_col1\" class=\"data row3 col1\" >(3095, 4)</td>\n",
       "                        <td id=\"T_993ff076_5a5d_11eb_8b42_204747e9b9cbrow3_col2\" class=\"data row3 col2\" >seller_id, seller_zip_code_prefix, seller_city, seller_state</td>\n",
       "                        <td id=\"T_993ff076_5a5d_11eb_8b42_204747e9b9cbrow3_col3\" class=\"data row3 col3\" >0</td>\n",
       "                        <td id=\"T_993ff076_5a5d_11eb_8b42_204747e9b9cbrow3_col4\" class=\"data row3 col4\" >0</td>\n",
       "                        <td id=\"T_993ff076_5a5d_11eb_8b42_204747e9b9cbrow3_col5\" class=\"data row3 col5\" ></td>\n",
       "            </tr>\n",
       "            <tr>\n",
       "                        <th id=\"T_993ff076_5a5d_11eb_8b42_204747e9b9cblevel0_row4\" class=\"row_heading level0 row4\" >4</th>\n",
       "                        <td id=\"T_993ff076_5a5d_11eb_8b42_204747e9b9cbrow4_col0\" class=\"data row4 col0\" >products</td>\n",
       "                        <td id=\"T_993ff076_5a5d_11eb_8b42_204747e9b9cbrow4_col1\" class=\"data row4 col1\" >(32951, 9)</td>\n",
       "                        <td id=\"T_993ff076_5a5d_11eb_8b42_204747e9b9cbrow4_col2\" class=\"data row4 col2\" >product_id, product_category_name, product_name_lenght, product_description_lenght, product_photos_qty, product_weight_g, product_length_cm, product_height_cm, product_width_cm</td>\n",
       "                        <td id=\"T_993ff076_5a5d_11eb_8b42_204747e9b9cbrow4_col3\" class=\"data row4 col3\" >2448</td>\n",
       "                        <td id=\"T_993ff076_5a5d_11eb_8b42_204747e9b9cbrow4_col4\" class=\"data row4 col4\" >8</td>\n",
       "                        <td id=\"T_993ff076_5a5d_11eb_8b42_204747e9b9cbrow4_col5\" class=\"data row4 col5\" >product_category_name, product_name_lenght, product_description_lenght, product_photos_qty, product_weight_g, product_length_cm, product_height_cm, product_width_cm</td>\n",
       "            </tr>\n",
       "            <tr>\n",
       "                        <th id=\"T_993ff076_5a5d_11eb_8b42_204747e9b9cblevel0_row5\" class=\"row_heading level0 row5\" >5</th>\n",
       "                        <td id=\"T_993ff076_5a5d_11eb_8b42_204747e9b9cbrow5_col0\" class=\"data row5 col0\" >reviews</td>\n",
       "                        <td id=\"T_993ff076_5a5d_11eb_8b42_204747e9b9cbrow5_col1\" class=\"data row5 col1\" >(100000, 7)</td>\n",
       "                        <td id=\"T_993ff076_5a5d_11eb_8b42_204747e9b9cbrow5_col2\" class=\"data row5 col2\" >review_id, order_id, review_score, review_comment_title, review_comment_message, review_creation_date, review_answer_timestamp</td>\n",
       "                        <td id=\"T_993ff076_5a5d_11eb_8b42_204747e9b9cbrow5_col3\" class=\"data row5 col3\" >146532</td>\n",
       "                        <td id=\"T_993ff076_5a5d_11eb_8b42_204747e9b9cbrow5_col4\" class=\"data row5 col4\" >2</td>\n",
       "                        <td id=\"T_993ff076_5a5d_11eb_8b42_204747e9b9cbrow5_col5\" class=\"data row5 col5\" >review_comment_title, review_comment_message</td>\n",
       "            </tr>\n",
       "            <tr>\n",
       "                        <th id=\"T_993ff076_5a5d_11eb_8b42_204747e9b9cblevel0_row6\" class=\"row_heading level0 row6\" >6</th>\n",
       "                        <td id=\"T_993ff076_5a5d_11eb_8b42_204747e9b9cbrow6_col0\" class=\"data row6 col0\" >items</td>\n",
       "                        <td id=\"T_993ff076_5a5d_11eb_8b42_204747e9b9cbrow6_col1\" class=\"data row6 col1\" >(112650, 7)</td>\n",
       "                        <td id=\"T_993ff076_5a5d_11eb_8b42_204747e9b9cbrow6_col2\" class=\"data row6 col2\" >order_id, order_item_id, product_id, seller_id, shipping_limit_date, price, freight_value</td>\n",
       "                        <td id=\"T_993ff076_5a5d_11eb_8b42_204747e9b9cbrow6_col3\" class=\"data row6 col3\" >0</td>\n",
       "                        <td id=\"T_993ff076_5a5d_11eb_8b42_204747e9b9cbrow6_col4\" class=\"data row6 col4\" >0</td>\n",
       "                        <td id=\"T_993ff076_5a5d_11eb_8b42_204747e9b9cbrow6_col5\" class=\"data row6 col5\" ></td>\n",
       "            </tr>\n",
       "            <tr>\n",
       "                        <th id=\"T_993ff076_5a5d_11eb_8b42_204747e9b9cblevel0_row7\" class=\"row_heading level0 row7\" >7</th>\n",
       "                        <td id=\"T_993ff076_5a5d_11eb_8b42_204747e9b9cbrow7_col0\" class=\"data row7 col0\" >product_category_name_translation</td>\n",
       "                        <td id=\"T_993ff076_5a5d_11eb_8b42_204747e9b9cbrow7_col1\" class=\"data row7 col1\" >(71, 2)</td>\n",
       "                        <td id=\"T_993ff076_5a5d_11eb_8b42_204747e9b9cbrow7_col2\" class=\"data row7 col2\" >product_category_name, product_category_name_english</td>\n",
       "                        <td id=\"T_993ff076_5a5d_11eb_8b42_204747e9b9cbrow7_col3\" class=\"data row7 col3\" >0</td>\n",
       "                        <td id=\"T_993ff076_5a5d_11eb_8b42_204747e9b9cbrow7_col4\" class=\"data row7 col4\" >0</td>\n",
       "                        <td id=\"T_993ff076_5a5d_11eb_8b42_204747e9b9cbrow7_col5\" class=\"data row7 col5\" ></td>\n",
       "            </tr>\n",
       "    </tbody></table>"
      ],
      "text/plain": [
       "<pandas.io.formats.style.Styler at 0x1b24f9f35b0>"
      ]
     },
     "execution_count": 3,
     "metadata": {},
     "output_type": "execute_result"
    }
   ],
   "source": [
    "bdd = [orders, payment, customers,  sellers, products, reviews, items, product_category_name_translation]\n",
    "titres = [\"orders\", \"payment\", \"customers\", \"sellers\",\"products\",\"reviews\",\"items\",\"product_category_name_translation\"]\n",
    "info_df = pd.DataFrame({},)\n",
    "info_df['bdd']= titres\n",
    "info_df['dimensions']=[df.shape for df in bdd]\n",
    "info_df['colonnes'] = [', '.join([col for col, null in df.isnull().sum().items() ]) for df in bdd]\n",
    "info_df['null_no']= [df.isnull().sum().sum() for df in bdd]\n",
    "info_df['null_cols_no']= [len([col for col, null in df.isnull().sum().items() if null > 0]) for df in bdd]\n",
    "info_df['null_cols'] = [', '.join([col for col, null in df.isnull().sum().items() if null > 0]) for df in bdd]\n",
    "\n",
    "\n",
    "info_df.style.background_gradient(cmap='coolwarm')"
   ]
  },
  {
   "cell_type": "code",
   "execution_count": 4,
   "metadata": {},
   "outputs": [
    {
     "data": {
      "text/plain": [
       "['orders',\n",
       " 'payment',\n",
       " 'customers',\n",
       " 'sellers',\n",
       " 'products',\n",
       " 'reviews',\n",
       " 'items',\n",
       " 'product_category_name_translation']"
      ]
     },
     "execution_count": 4,
     "metadata": {},
     "output_type": "execute_result"
    }
   ],
   "source": [
    "titres"
   ]
  },
  {
   "cell_type": "markdown",
   "metadata": {},
   "source": [
    "### La table \"base\" est composée de la jointure entre les tables ORDERS,CUSTOMERS ET PAYMENT. "
   ]
  },
  {
   "cell_type": "code",
   "execution_count": 5,
   "metadata": {},
   "outputs": [],
   "source": [
    "base = pd.merge(orders, customers, on='customer_id', how='left')\n",
    "base = pd.merge(base, payment, on='order_id', how='left')"
   ]
  },
  {
   "cell_type": "markdown",
   "metadata": {},
   "source": [
    "## Formating and Sanity"
   ]
  },
  {
   "cell_type": "markdown",
   "metadata": {},
   "source": [
    "CONVERTISSEUR EN DATETIME"
   ]
  },
  {
   "cell_type": "code",
   "execution_count": 6,
   "metadata": {},
   "outputs": [],
   "source": [
    "base['order_approved_at'] = pd.to_datetime(base['order_approved_at'], errors='coerce')\n",
    "base['order_delivered_carrier_date'] = pd.to_datetime(base['order_delivered_carrier_date'], errors='coerce')\n",
    "base['order_delivered_customer_date'] = pd.to_datetime(base['order_delivered_customer_date'], errors='coerce')\n",
    "base['order_estimated_delivery_date'] = pd.to_datetime(base['order_estimated_delivery_date'], errors='coerce')\n",
    "base['order_purchase_timestamp'] = pd.to_datetime(base['order_purchase_timestamp'], errors='coerce')"
   ]
  },
  {
   "cell_type": "markdown",
   "metadata": {},
   "source": [
    "Convertisseur en Categorisation"
   ]
  },
  {
   "cell_type": "code",
   "execution_count": 7,
   "metadata": {},
   "outputs": [],
   "source": [
    "cat_name1 = base['order_status'].unique().tolist()\n",
    "cat_name2= base['customer_city'].unique().tolist()\n",
    "cat_name3= base['customer_state'].unique().tolist()\n",
    "base['order_status'] = pd.Categorical(base['order_status'], categories=cat_name1, ordered=False)\n",
    "base['customer_city'] = pd.Categorical(base['customer_city'], categories=cat_name2, ordered=False)\n",
    "base['customer_state'] = pd.Categorical(base['customer_state'], categories=cat_name3, ordered=False)"
   ]
  },
  {
   "cell_type": "markdown",
   "metadata": {},
   "source": [
    "Ici, pour catégoriser la variable \"payment_type\", nous devons d'abord remplacer les valeurs Nan par 'not defined'. "
   ]
  },
  {
   "cell_type": "code",
   "execution_count": 8,
   "metadata": {},
   "outputs": [],
   "source": [
    "base['payment_type'] = base['payment_type'].replace(np.nan, 'not_defined')\n",
    "cat_name4=base['payment_type'].unique().tolist()\n",
    "base['payment_type'] = pd.Categorical(base['payment_type'], categories=cat_name4, ordered=False)"
   ]
  },
  {
   "cell_type": "code",
   "execution_count": 9,
   "metadata": {},
   "outputs": [
    {
     "data": {
      "text/plain": [
       "order_id                                 object\n",
       "customer_id                              object\n",
       "order_status                           category\n",
       "order_purchase_timestamp         datetime64[ns]\n",
       "order_approved_at                datetime64[ns]\n",
       "order_delivered_carrier_date     datetime64[ns]\n",
       "order_delivered_customer_date    datetime64[ns]\n",
       "order_estimated_delivery_date    datetime64[ns]\n",
       "customer_unique_id                       object\n",
       "customer_zip_code_prefix                  int64\n",
       "customer_city                          category\n",
       "customer_state                         category\n",
       "payment_sequential                      float64\n",
       "payment_type                           category\n",
       "payment_installments                    float64\n",
       "payment_value                           float64\n",
       "dtype: object"
      ]
     },
     "execution_count": 9,
     "metadata": {},
     "output_type": "execute_result"
    }
   ],
   "source": [
    "base.dtypes"
   ]
  },
  {
   "cell_type": "code",
   "execution_count": 10,
   "metadata": {},
   "outputs": [
    {
     "data": {
      "text/plain": [
       "0         SP\n",
       "1         SP\n",
       "2         SP\n",
       "3         BA\n",
       "4         GO\n",
       "          ..\n",
       "103882    SP\n",
       "103883    SP\n",
       "103884    BA\n",
       "103885    RJ\n",
       "103886    PR\n",
       "Name: customer_state, Length: 103887, dtype: category\n",
       "Categories (27, object): ['SP', 'BA', 'GO', 'RN', ..., 'PI', 'AL', 'AC', 'AM']"
      ]
     },
     "execution_count": 10,
     "metadata": {},
     "output_type": "execute_result"
    }
   ],
   "source": [
    "def supprime_accent(ligne):\n",
    "        \"\"\" supprime les accents du texte source \"\"\"\n",
    "        accent = ['é', 'è', 'ê', 'à', 'ù', 'û', 'ç', 'ô', 'î', 'ï', 'â']\n",
    "        sans_accent = ['e', 'e', 'e', 'a', 'u', 'u', 'c', 'o', 'i', 'i', 'a']\n",
    "        i = 0\n",
    "        while i < len(accent):\n",
    "            base['ligne'] = ligne.replace(accent[i], sans_accent[i])\n",
    "            i += 1\n",
    "        return ligne\n",
    "base['customer_city'].apply(supprime_accent) \n",
    "base['customer_state'].apply(supprime_accent)"
   ]
  },
  {
   "cell_type": "markdown",
   "metadata": {},
   "source": [
    "# 3) Consolidation des données par ordre"
   ]
  },
  {
   "cell_type": "markdown",
   "metadata": {},
   "source": [
    "### Tout d'abord, nous allons rajouter les variables \"month\", \"year\",\"day\",\" hour\", et \"month_year\". "
   ]
  },
  {
   "cell_type": "code",
   "execution_count": 11,
   "metadata": {},
   "outputs": [],
   "source": [
    "base['month'] = base['order_purchase_timestamp'].dt.strftime('%m')\n",
    "base['year'] =  base['order_purchase_timestamp'].dt.strftime('%Y')\n",
    "base['day'] =  base['order_purchase_timestamp'].dt.strftime('%d')\n",
    "base['hour'] = base['order_purchase_timestamp'].dt.strftime('%H')\n",
    "base['year_month'] = base['order_purchase_timestamp'].dt.strftime('%Y-%m')"
   ]
  },
  {
   "cell_type": "markdown",
   "metadata": {},
   "source": [
    "### Combien il y'a d'ordres par mois ?"
   ]
  },
  {
   "cell_type": "code",
   "execution_count": 12,
   "metadata": {},
   "outputs": [
    {
     "data": {
      "text/plain": [
       "<AxesSubplot:xlabel='month'>"
      ]
     },
     "execution_count": 12,
     "metadata": {},
     "output_type": "execute_result"
    },
    {
     "data": {
      "image/png": "[encoded data removed]",
      "text/plain": [
       "<Figure size 432x288 with 1 Axes>"
      ]
     },
     "metadata": {
      "needs_background": "light"
     },
     "output_type": "display_data"
    }
   ],
   "source": [
    "orders_per_months = base.groupby(base['month'])['order_id'].count()\n",
    "orders_per_months.plot.bar()"
   ]
  },
  {
   "cell_type": "markdown",
   "metadata": {},
   "source": [
    "Voici ci-dessus le nombre d'ordres par mois. C'est durant le mois d'aout qu'il y-en a le plus et c'est durant le mois suivant (septembre) qu'il y-en a le moins. "
   ]
  },
  {
   "cell_type": "markdown",
   "metadata": {},
   "source": [
    "### Combien de chiffre par mois ?"
   ]
  },
  {
   "cell_type": "code",
   "execution_count": 13,
   "metadata": {},
   "outputs": [
    {
     "data": {
      "text/plain": [
       "<AxesSubplot:xlabel='year_month'>"
      ]
     },
     "execution_count": 13,
     "metadata": {},
     "output_type": "execute_result"
    },
    {
     "data": {
      "image/png": "[encoded data removed]",
      "text/plain": [
       "<Figure size 432x288 with 1 Axes>"
      ]
     },
     "metadata": {
      "needs_background": "light"
     },
     "output_type": "display_data"
    }
   ],
   "source": [
    "max_payment=base['payment_value'].max()\n",
    "moyenne_payments=base['payment_value'].mean()\n",
    "CA_per_months = base.groupby(base['year_month'])['payment_value'].sum()\n",
    "CA_per_months.plot.bar()"
   ]
  },
  {
   "cell_type": "markdown",
   "metadata": {},
   "source": [
    "C'est en novembre 2017 que l'on peut retrouver le chiffre d'affaire le plus élevé. "
   ]
  },
  {
   "cell_type": "code",
   "execution_count": 14,
   "metadata": {},
   "outputs": [
    {
     "name": "stdout",
     "output_type": "stream",
     "text": [
      "CA moyen par mois: 640354.8848\n",
      "CA le pls élevé sur un mois: 1194882.7999999977\n",
      "Paiement record: 13664.08\n",
      "Paiement moyen: 154.10038041698772\n"
     ]
    }
   ],
   "source": [
    "print('CA moyen par mois:', CA_per_months.mean())\n",
    "print('CA le pls élevé sur un mois:',CA_per_months.max())\n",
    "print('Paiement record:', max_payment)\n",
    "print('Paiement moyen:', moyenne_payments)"
   ]
  },
  {
   "cell_type": "markdown",
   "metadata": {},
   "source": [
    "### % d'ordres par heure"
   ]
  },
  {
   "cell_type": "code",
   "execution_count": 15,
   "metadata": {},
   "outputs": [
    {
     "data": {
      "text/plain": [
       "<AxesSubplot:>"
      ]
     },
     "execution_count": 15,
     "metadata": {},
     "output_type": "execute_result"
    },
    {
     "data": {
      "image/png": "[encoded data removed]",
      "text/plain": [
       "<Figure size 432x288 with 1 Axes>"
      ]
     },
     "metadata": {
      "needs_background": "light"
     },
     "output_type": "display_data"
    }
   ],
   "source": [
    "orders_per_hours = base['hour'].value_counts(normalize=True).sort_index()*100\n",
    "orders_per_hours.plot.bar()"
   ]
  },
  {
   "cell_type": "markdown",
   "metadata": {},
   "source": [
    "### % d'ordres par jour"
   ]
  },
  {
   "cell_type": "code",
   "execution_count": 16,
   "metadata": {
    "scrolled": false
   },
   "outputs": [
    {
     "data": {
      "text/plain": [
       "<AxesSubplot:>"
      ]
     },
     "execution_count": 16,
     "metadata": {},
     "output_type": "execute_result"
    },
    {
     "data": {
      "image/png": "[encoded data removed]",
      "text/plain": [
       "<Figure size 432x288 with 1 Axes>"
      ]
     },
     "metadata": {
      "needs_background": "light"
     },
     "output_type": "display_data"
    }
   ],
   "source": [
    "orders_per_day = base['day'].value_counts(normalize=True).sort_index()*100\n",
    "orders_per_day.plot.bar()"
   ]
  },
  {
   "cell_type": "markdown",
   "metadata": {},
   "source": [
    "### % de CA par jour ?"
   ]
  },
  {
   "cell_type": "code",
   "execution_count": 17,
   "metadata": {},
   "outputs": [
    {
     "data": {
      "text/plain": [
       "<AxesSubplot:xlabel='day'>"
      ]
     },
     "execution_count": 17,
     "metadata": {},
     "output_type": "execute_result"
    },
    {
     "data": {
      "image/png": "[encoded data removed]",
      "text/plain": [
       "<Figure size 432x288 with 1 Axes>"
      ]
     },
     "metadata": {
      "needs_background": "light"
     },
     "output_type": "display_data"
    }
   ],
   "source": [
    "CA_per_days = pd.pivot_table(base, values=['payment_value'], index=['day'], aggfunc=np.sum)\n",
    "CA_per_days['Pourcentage']= CA_per_days['payment_value'] / 16008872.12 *100\n",
    "Somme_CA=CA_per_days.sum()\n",
    "# Somme_CA = 16008872.12\n",
    "CA_per_days['Pourcentage'].plot(kind='bar')"
   ]
  },
  {
   "cell_type": "markdown",
   "metadata": {},
   "source": [
    "### % de CA par heure ?"
   ]
  },
  {
   "cell_type": "code",
   "execution_count": 18,
   "metadata": {},
   "outputs": [
    {
     "data": {
      "text/plain": [
       "<AxesSubplot:xlabel='hour'>"
      ]
     },
     "execution_count": 18,
     "metadata": {},
     "output_type": "execute_result"
    },
    {
     "data": {
      "image/png": "[encoded data removed]",
      "text/plain": [
       "<Figure size 432x288 with 1 Axes>"
      ]
     },
     "metadata": {
      "needs_background": "light"
     },
     "output_type": "display_data"
    }
   ],
   "source": [
    "CA_per_days = pd.pivot_table(base, values=['payment_value'], index=['hour'], aggfunc=np.sum)\n",
    "CA_per_days['Pourcentage']= CA_per_days['payment_value'] / 16008872.12 *100\n",
    "Somme_CA=CA_per_days.sum()\n",
    "# Somme_CA = 16008872.12\n",
    "CA_per_days['Pourcentage'].plot(kind='bar')"
   ]
  },
  {
   "cell_type": "code",
   "execution_count": 19,
   "metadata": {},
   "outputs": [],
   "source": [
    "### % de CA par heure ?"
   ]
  },
  {
   "cell_type": "markdown",
   "metadata": {},
   "source": [
    "### Répartition des states par ordres"
   ]
  },
  {
   "cell_type": "code",
   "execution_count": 20,
   "metadata": {},
   "outputs": [
    {
     "data": {
      "text/plain": [
       "<AxesSubplot:ylabel='customer_state'>"
      ]
     },
     "execution_count": 20,
     "metadata": {},
     "output_type": "execute_result"
    },
    {
     "data": {
      "image/png": "[encoded data removed]",
      "text/plain": [
       "<Figure size 432x288 with 1 Axes>"
      ]
     },
     "metadata": {},
     "output_type": "display_data"
    }
   ],
   "source": [
    "Ordres_par_states = pd.value_counts(base['customer_state']).sort_index() \n",
    "Ordres_par_states.plot.pie()"
   ]
  },
  {
   "cell_type": "markdown",
   "metadata": {},
   "source": [
    "### Répartition des states par CA"
   ]
  },
  {
   "cell_type": "code",
   "execution_count": 21,
   "metadata": {},
   "outputs": [
    {
     "data": {
      "text/plain": [
       "<AxesSubplot:ylabel='payment_value'>"
      ]
     },
     "execution_count": 21,
     "metadata": {},
     "output_type": "execute_result"
    },
    {
     "data": {
      "image/png": "[encoded data removed]",
      "text/plain": [
       "<Figure size 432x288 with 1 Axes>"
      ]
     },
     "metadata": {},
     "output_type": "display_data"
    }
   ],
   "source": [
    "CA_par_states = base.groupby(['customer_state']).payment_value.sum()\n",
    "CA_par_states.plot.pie()"
   ]
  },
  {
   "cell_type": "markdown",
   "metadata": {},
   "source": [
    "### % d'ordres par moyen paiement par state"
   ]
  },
  {
   "cell_type": "code",
   "execution_count": 22,
   "metadata": {},
   "outputs": [],
   "source": [
    "ordres_moyen_state = pd.crosstab(base['customer_state'], base['payment_type'], values=base['order_id'],\n",
    "            aggfunc=pd.Series.count, normalize=True)"
   ]
  },
  {
   "cell_type": "code",
   "execution_count": 23,
   "metadata": {},
   "outputs": [
    {
     "data": {
      "text/plain": [
       "<AxesSubplot:xlabel='customer_state'>"
      ]
     },
     "execution_count": 23,
     "metadata": {},
     "output_type": "execute_result"
    },
    {
     "data": {
      "image/png": "[encoded data removed]",
      "text/plain": [
       "<Figure size 432x288 with 1 Axes>"
      ]
     },
     "metadata": {
      "needs_background": "light"
     },
     "output_type": "display_data"
    }
   ],
   "source": [
    "ordres_moyen_state.plot.bar(stacked=True)"
   ]
  },
  {
   "cell_type": "markdown",
   "metadata": {},
   "source": [
    "### % de CA par moyen paiement par state"
   ]
  },
  {
   "cell_type": "code",
   "execution_count": 24,
   "metadata": {},
   "outputs": [
    {
     "data": {
      "text/plain": [
       "<AxesSubplot:xlabel='customer_state'>"
      ]
     },
     "execution_count": 24,
     "metadata": {},
     "output_type": "execute_result"
    },
    {
     "data": {
      "image/png": "[encoded data removed]",
      "text/plain": [
       "<Figure size 432x288 with 1 Axes>"
      ]
     },
     "metadata": {
      "needs_background": "light"
     },
     "output_type": "display_data"
    }
   ],
   "source": [
    "CA_moyen_state = pd.crosstab(base['customer_state'], base['payment_type'], values=base['payment_value'],\n",
    "            aggfunc=pd.Series.sum, normalize=True)\n",
    "CA_moyen_state.plot.bar(stacked=True)"
   ]
  },
  {
   "cell_type": "markdown",
   "metadata": {},
   "source": [
    "### % d'ordres par moyen paiement par mois"
   ]
  },
  {
   "cell_type": "code",
   "execution_count": 25,
   "metadata": {},
   "outputs": [
    {
     "data": {
      "text/plain": [
       "<AxesSubplot:xlabel='year_month'>"
      ]
     },
     "execution_count": 25,
     "metadata": {},
     "output_type": "execute_result"
    },
    {
     "data": {
      "image/png": "[encoded data removed]",
      "text/plain": [
       "<Figure size 432x288 with 1 Axes>"
      ]
     },
     "metadata": {
      "needs_background": "light"
     },
     "output_type": "display_data"
    }
   ],
   "source": [
    "ordres_moyen_mois = pd.crosstab(base['year_month'], base['payment_type'], values=base['order_id'],\n",
    "            aggfunc=pd.Series.count, normalize=True)\n",
    "ordres_moyen_mois.plot.bar(stacked=True)"
   ]
  },
  {
   "cell_type": "markdown",
   "metadata": {},
   "source": [
    "### % de CA par moyen paiement par mois"
   ]
  },
  {
   "cell_type": "code",
   "execution_count": 26,
   "metadata": {},
   "outputs": [
    {
     "data": {
      "text/plain": [
       "<AxesSubplot:xlabel='year_month'>"
      ]
     },
     "execution_count": 26,
     "metadata": {},
     "output_type": "execute_result"
    },
    {
     "data": {
      "image/png": "[encoded data removed]",
      "text/plain": [
       "<Figure size 432x288 with 1 Axes>"
      ]
     },
     "metadata": {
      "needs_background": "light"
     },
     "output_type": "display_data"
    }
   ],
   "source": [
    "CA_par_mois_payment = pd.crosstab(base['year_month'], base['payment_type'], values=base['payment_value'],\n",
    "            aggfunc=pd.Series.sum, normalize=True)\n",
    "CA_par_mois_payment.plot.bar(stacked=True)"
   ]
  },
  {
   "cell_type": "markdown",
   "metadata": {},
   "source": [
    "# 3) Consolidation des données par clients"
   ]
  },
  {
   "cell_type": "markdown",
   "metadata": {},
   "source": [
    "### Nombre de commandes par client: "
   ]
  },
  {
   "cell_type": "code",
   "execution_count": 27,
   "metadata": {
    "scrolled": true
   },
   "outputs": [
    {
     "name": "stdout",
     "output_type": "stream",
     "text": [
      "Les clients passent en général une seule commande.    : 1.0447099285003167\n",
      "Le record de commandes d un seul client.              : 29\n",
      "La dépense moyenne d un client                        : 160.98864774086096\n",
      "La dépense record pour un seul client.                : 13664.08\n"
     ]
    }
   ],
   "source": [
    "Nb_commandes_par_clients = base.groupby(base['customer_id'])['order_id'].count()\n",
    "Paiements_par_clients = base.groupby(['customer_id'])['payment_value'].sum()\n",
    "print('Les clients passent en général une seule commande.    :', Nb_commandes_par_clients.mean())\n",
    "print('Le record de commandes d un seul client.              :', Nb_commandes_par_clients.max())\n",
    "print('La dépense moyenne d un client                        :', Paiements_par_clients.mean())\n",
    "print('La dépense record pour un seul client.                :', Paiements_par_clients.max())"
   ]
  },
  {
   "cell_type": "markdown",
   "metadata": {},
   "source": [
    "#### Voici notre nouvelle base client: "
   ]
  },
  {
   "cell_type": "code",
   "execution_count": 28,
   "metadata": {
    "scrolled": true
   },
   "outputs": [
    {
     "data": {
      "text/html": [
       "<div>\n",
       "<style scoped>\n",
       "    .dataframe tbody tr th:only-of-type {\n",
       "        vertical-align: middle;\n",
       "    }\n",
       "\n",
       "    .dataframe tbody tr th {\n",
       "        vertical-align: top;\n",
       "    }\n",
       "\n",
       "    .dataframe thead th {\n",
       "        text-align: right;\n",
       "    }\n",
       "</style>\n",
       "<table border=\"1\" class=\"dataframe\">\n",
       "  <thead>\n",
       "    <tr style=\"text-align: right;\">\n",
       "      <th></th>\n",
       "      <th>customer_id</th>\n",
       "      <th>customer_city</th>\n",
       "      <th>customer_state</th>\n",
       "      <th>Nb_de_commandes</th>\n",
       "      <th>payment_value</th>\n",
       "    </tr>\n",
       "  </thead>\n",
       "  <tbody>\n",
       "    <tr>\n",
       "      <th>0</th>\n",
       "      <td>06b8999e2fba1a1fbc88172c00ba8bc7</td>\n",
       "      <td>franca</td>\n",
       "      <td>SP</td>\n",
       "      <td>1</td>\n",
       "      <td>146.87</td>\n",
       "    </tr>\n",
       "    <tr>\n",
       "      <th>1</th>\n",
       "      <td>18955e83d337fd6b2def6b18a428ac77</td>\n",
       "      <td>sao bernardo do campo</td>\n",
       "      <td>SP</td>\n",
       "      <td>1</td>\n",
       "      <td>335.48</td>\n",
       "    </tr>\n",
       "    <tr>\n",
       "      <th>2</th>\n",
       "      <td>4e7b3e00288586ebd08712fdd0374a03</td>\n",
       "      <td>sao paulo</td>\n",
       "      <td>SP</td>\n",
       "      <td>1</td>\n",
       "      <td>157.73</td>\n",
       "    </tr>\n",
       "    <tr>\n",
       "      <th>3</th>\n",
       "      <td>b2b6027bc5c5109e529d4dc6358b12c3</td>\n",
       "      <td>mogi das cruzes</td>\n",
       "      <td>SP</td>\n",
       "      <td>1</td>\n",
       "      <td>173.30</td>\n",
       "    </tr>\n",
       "    <tr>\n",
       "      <th>4</th>\n",
       "      <td>4f2d8ab171c80ec8364f7c12e35b23ad</td>\n",
       "      <td>campinas</td>\n",
       "      <td>SP</td>\n",
       "      <td>1</td>\n",
       "      <td>252.25</td>\n",
       "    </tr>\n",
       "    <tr>\n",
       "      <th>...</th>\n",
       "      <td>...</td>\n",
       "      <td>...</td>\n",
       "      <td>...</td>\n",
       "      <td>...</td>\n",
       "      <td>...</td>\n",
       "    </tr>\n",
       "    <tr>\n",
       "      <th>99436</th>\n",
       "      <td>17ddf5dd5d51696bb3d7c6291687be6f</td>\n",
       "      <td>sao paulo</td>\n",
       "      <td>SP</td>\n",
       "      <td>1</td>\n",
       "      <td>88.78</td>\n",
       "    </tr>\n",
       "    <tr>\n",
       "      <th>99437</th>\n",
       "      <td>e7b71a9017aa05c9a7fd292d714858e8</td>\n",
       "      <td>taboao da serra</td>\n",
       "      <td>SP</td>\n",
       "      <td>1</td>\n",
       "      <td>129.06</td>\n",
       "    </tr>\n",
       "    <tr>\n",
       "      <th>99438</th>\n",
       "      <td>5e28dfe12db7fb50a4b2f691faecea5e</td>\n",
       "      <td>fortaleza</td>\n",
       "      <td>CE</td>\n",
       "      <td>1</td>\n",
       "      <td>56.04</td>\n",
       "    </tr>\n",
       "    <tr>\n",
       "      <th>99439</th>\n",
       "      <td>56b18e2166679b8a959d72dd06da27f9</td>\n",
       "      <td>canoas</td>\n",
       "      <td>RS</td>\n",
       "      <td>1</td>\n",
       "      <td>711.07</td>\n",
       "    </tr>\n",
       "    <tr>\n",
       "      <th>99440</th>\n",
       "      <td>274fa6071e5e17fe303b9748641082c8</td>\n",
       "      <td>cotia</td>\n",
       "      <td>SP</td>\n",
       "      <td>1</td>\n",
       "      <td>21.77</td>\n",
       "    </tr>\n",
       "  </tbody>\n",
       "</table>\n",
       "<p>99441 rows × 5 columns</p>\n",
       "</div>"
      ],
      "text/plain": [
       "                            customer_id          customer_city customer_state  \\\n",
       "0      06b8999e2fba1a1fbc88172c00ba8bc7                 franca             SP   \n",
       "1      18955e83d337fd6b2def6b18a428ac77  sao bernardo do campo             SP   \n",
       "2      4e7b3e00288586ebd08712fdd0374a03              sao paulo             SP   \n",
       "3      b2b6027bc5c5109e529d4dc6358b12c3        mogi das cruzes             SP   \n",
       "4      4f2d8ab171c80ec8364f7c12e35b23ad               campinas             SP   \n",
       "...                                 ...                    ...            ...   \n",
       "99436  17ddf5dd5d51696bb3d7c6291687be6f              sao paulo             SP   \n",
       "99437  e7b71a9017aa05c9a7fd292d714858e8        taboao da serra             SP   \n",
       "99438  5e28dfe12db7fb50a4b2f691faecea5e              fortaleza             CE   \n",
       "99439  56b18e2166679b8a959d72dd06da27f9                 canoas             RS   \n",
       "99440  274fa6071e5e17fe303b9748641082c8                  cotia             SP   \n",
       "\n",
       "       Nb_de_commandes  payment_value  \n",
       "0                    1         146.87  \n",
       "1                    1         335.48  \n",
       "2                    1         157.73  \n",
       "3                    1         173.30  \n",
       "4                    1         252.25  \n",
       "...                ...            ...  \n",
       "99436                1          88.78  \n",
       "99437                1         129.06  \n",
       "99438                1          56.04  \n",
       "99439                1         711.07  \n",
       "99440                1          21.77  \n",
       "\n",
       "[99441 rows x 5 columns]"
      ]
     },
     "execution_count": 28,
     "metadata": {},
     "output_type": "execute_result"
    }
   ],
   "source": [
    "Nouvelle_base_client=pd.merge(customers,Nb_commandes_par_clients, on='customer_id')\n",
    "Nouvelle_base_client=pd.merge(Nouvelle_base_client, Paiements_par_clients, on='customer_id')\n",
    "Client_prop=Nouvelle_base_client.rename(columns={'order_id': 'Nb_de_commandes'})\n",
    "Client_prop.drop(['customer_unique_id','customer_zip_code_prefix'], axis=1)"
   ]
  },
  {
   "cell_type": "markdown",
   "metadata": {},
   "source": [
    "### La distribution des paiements et du nombre de commandes par client suit une loi normale"
   ]
  },
  {
   "cell_type": "code",
   "execution_count": 29,
   "metadata": {},
   "outputs": [
    {
     "name": "stdout",
     "output_type": "stream",
     "text": [
      "VALEUR PAIEMENT --------------- NormaltestResult(statistic=151793.70302269488, pvalue=0.0)\n",
      "NB de commandes --------------- NormaltestResult(statistic=235859.39433414355, pvalue=0.0)\n"
     ]
    }
   ],
   "source": [
    "print('VALEUR PAIEMENT ---------------' ,scipy.stats.normaltest(Client_prop.payment_value))\n",
    "print('NB de commandes ---------------' ,scipy.stats.normaltest(Client_prop.Nb_de_commandes))"
   ]
  },
  {
   "cell_type": "code",
   "execution_count": 30,
   "metadata": {},
   "outputs": [
    {
     "data": {
      "text/plain": [
       "Nb_de_commandes       AxesSubplot(0.125,0.125;0.352273x0.755)\n",
       "payment_value      AxesSubplot(0.547727,0.125;0.352273x0.755)\n",
       "dtype: object"
      ]
     },
     "execution_count": 30,
     "metadata": {},
     "output_type": "execute_result"
    },
    {
     "data": {
      "image/png": "[encoded data removed]",
      "text/plain": [
       "<Figure size 432x288 with 2 Axes>"
      ]
     },
     "metadata": {
      "needs_background": "light"
     },
     "output_type": "display_data"
    }
   ],
   "source": [
    "Client_prop[['Nb_de_commandes','payment_value']].plot(kind='box', subplots=True, sharex=True)"
   ]
  },
  {
   "cell_type": "markdown",
   "metadata": {},
   "source": [
    "### Classement des 15 villes où résident le plus de clients"
   ]
  },
  {
   "cell_type": "markdown",
   "metadata": {},
   "source": [
    "Les habitants de Saopaulo représentent 15% des clients avec un total de 15 540 personnes. "
   ]
  },
  {
   "cell_type": "code",
   "execution_count": 31,
   "metadata": {
    "scrolled": true
   },
   "outputs": [
    {
     "data": {
      "text/plain": [
       "sao paulo                15540\n",
       "rio de janeiro            6882\n",
       "belo horizonte            2773\n",
       "brasilia                  2131\n",
       "curitiba                  1521\n",
       "campinas                  1444\n",
       "porto alegre              1379\n",
       "salvador                  1245\n",
       "guarulhos                 1189\n",
       "sao bernardo do campo      938\n",
       "niteroi                    849\n",
       "santo andre                797\n",
       "osasco                     746\n",
       "santos                     713\n",
       "goiania                    692\n",
       "Name: customer_city, dtype: int64"
      ]
     },
     "execution_count": 31,
     "metadata": {},
     "output_type": "execute_result"
    }
   ],
   "source": [
    "Client_prop['customer_city'].value_counts().head(15)\n"
   ]
  },
  {
   "cell_type": "code",
   "execution_count": 32,
   "metadata": {},
   "outputs": [
    {
     "data": {
      "text/plain": [
       "<AxesSubplot:ylabel='customer_city'>"
      ]
     },
     "execution_count": 32,
     "metadata": {},
     "output_type": "execute_result"
    },
    {
     "data": {
      "image/png": "[encoded data removed]",
      "text/plain": [
       "<Figure size 432x288 with 1 Axes>"
      ]
     },
     "metadata": {},
     "output_type": "display_data"
    }
   ],
   "source": [
    "Client_prop['customer_city'].value_counts().head(8).plot(kind='pie')"
   ]
  },
  {
   "cell_type": "markdown",
   "metadata": {},
   "source": [
    "### Classement des 4 pays où résident le plus de clients"
   ]
  },
  {
   "cell_type": "code",
   "execution_count": 33,
   "metadata": {
    "scrolled": true
   },
   "outputs": [
    {
     "name": "stderr",
     "output_type": "stream",
     "text": [
      "C:\\Users\\USER\\anaconda3\\lib\\site-packages\\pandas\\plotting\\_matplotlib\\core.py:1547: MatplotlibDeprecationWarning: normalize=None does not normalize if the sum is less than 1 but this behavior is deprecated since 3.3 until two minor releases later. After the deprecation period the default value will be normalize=True. To prevent normalization pass normalize=False \n"
     ]
    },
    {
     "data": {
      "text/plain": [
       "<AxesSubplot:ylabel='customer_state'>"
      ]
     },
     "execution_count": 33,
     "metadata": {},
     "output_type": "execute_result"
    },
    {
     "data": {
      "image/png": "[encoded data removed]",
      "text/plain": [
       "<Figure size 432x288 with 1 Axes>"
      ]
     },
     "metadata": {},
     "output_type": "display_data"
    }
   ],
   "source": [
    "State=Client_prop['customer_state'].value_counts(normalize=True).head(8)\n",
    "State.plot(kind='pie')"
   ]
  },
  {
   "cell_type": "markdown",
   "metadata": {},
   "source": [
    "1) SP: Sao Paulo 2) RJ: Rio de Janeiro 3) MG: Minas Gerais 4) RS:Rio Grande do Sul 5) PR: Parana"
   ]
  },
  {
   "cell_type": "markdown",
   "metadata": {},
   "source": [
    "# 4) Problématique: Rétention "
   ]
  },
  {
   "cell_type": "markdown",
   "metadata": {},
   "source": [
    "### Recency, Frequency, Monetary Value (RFM)"
   ]
  },
  {
   "cell_type": "markdown",
   "metadata": {},
   "source": [
    "Recency=Intervalle\n",
    "\n",
    "Frequency=Frequence\n",
    "\n",
    "Monetary Value= Somme totale\n",
    "\n",
    "Ces termes seront expliqués au fur et à mesure. Nous créerons par la suite un score RFM afin de permettre la segmentation des clients"
   ]
  },
  {
   "cell_type": "markdown",
   "metadata": {},
   "source": [
    "Tout d'abord, nous allons combiner les paiements pour un même client:"
   ]
  },
  {
   "cell_type": "code",
   "execution_count": 34,
   "metadata": {},
   "outputs": [],
   "source": [
    "payment_par_clients=base[['customer_id','payment_value']].groupby('customer_id')['payment_value'].sum().reset_index()"
   ]
  },
  {
   "cell_type": "markdown",
   "metadata": {},
   "source": [
    "Ici, la fréquence représente le nombre de commande par un même client. "
   ]
  },
  {
   "cell_type": "code",
   "execution_count": 35,
   "metadata": {},
   "outputs": [],
   "source": [
    "frequence = pd.DataFrame(base.groupby('customer_id')['order_id'].count())"
   ]
  },
  {
   "cell_type": "markdown",
   "metadata": {},
   "source": [
    "Intervalle représente la distance en jours entre la dernière transaction du client et la dernière transaction enregistré dans notre base. "
   ]
  },
  {
   "cell_type": "code",
   "execution_count": 36,
   "metadata": {},
   "outputs": [],
   "source": [
    "dernière_transaction=pd.DataFrame(base.groupby('customer_id')['order_purchase_timestamp'].max())\n",
    "dernière_transaction['intervalle']=dernière_transaction['order_purchase_timestamp'].max()-dernière_transaction['order_purchase_timestamp']\n",
    "dernière_transaction['intervalle']=dernière_transaction['intervalle'].dt.days"
   ]
  },
  {
   "cell_type": "code",
   "execution_count": 37,
   "metadata": {
    "scrolled": true
   },
   "outputs": [
    {
     "data": {
      "text/html": [
       "<div>\n",
       "<style scoped>\n",
       "    .dataframe tbody tr th:only-of-type {\n",
       "        vertical-align: middle;\n",
       "    }\n",
       "\n",
       "    .dataframe tbody tr th {\n",
       "        vertical-align: top;\n",
       "    }\n",
       "\n",
       "    .dataframe thead th {\n",
       "        text-align: right;\n",
       "    }\n",
       "</style>\n",
       "<table border=\"1\" class=\"dataframe\">\n",
       "  <thead>\n",
       "    <tr style=\"text-align: right;\">\n",
       "      <th></th>\n",
       "      <th>Client_unique</th>\n",
       "      <th>Somme_totale</th>\n",
       "      <th>Fréquence</th>\n",
       "      <th>Intervalle</th>\n",
       "    </tr>\n",
       "  </thead>\n",
       "  <tbody>\n",
       "    <tr>\n",
       "      <th>0</th>\n",
       "      <td>00012a2ce6f8dcda20d059ce98491703</td>\n",
       "      <td>114.74</td>\n",
       "      <td>1</td>\n",
       "      <td>337</td>\n",
       "    </tr>\n",
       "    <tr>\n",
       "      <th>1</th>\n",
       "      <td>000161a058600d5901f007fab4c27140</td>\n",
       "      <td>67.41</td>\n",
       "      <td>1</td>\n",
       "      <td>458</td>\n",
       "    </tr>\n",
       "    <tr>\n",
       "      <th>2</th>\n",
       "      <td>0001fd6190edaaf884bcaf3d49edf079</td>\n",
       "      <td>195.42</td>\n",
       "      <td>1</td>\n",
       "      <td>596</td>\n",
       "    </tr>\n",
       "    <tr>\n",
       "      <th>3</th>\n",
       "      <td>0002414f95344307404f0ace7a26f1d5</td>\n",
       "      <td>179.35</td>\n",
       "      <td>1</td>\n",
       "      <td>427</td>\n",
       "    </tr>\n",
       "    <tr>\n",
       "      <th>4</th>\n",
       "      <td>000379cdec625522490c315e70c7a9fb</td>\n",
       "      <td>107.01</td>\n",
       "      <td>1</td>\n",
       "      <td>198</td>\n",
       "    </tr>\n",
       "    <tr>\n",
       "      <th>...</th>\n",
       "      <td>...</td>\n",
       "      <td>...</td>\n",
       "      <td>...</td>\n",
       "      <td>...</td>\n",
       "    </tr>\n",
       "    <tr>\n",
       "      <th>99436</th>\n",
       "      <td>fffecc9f79fd8c764f843e9951b11341</td>\n",
       "      <td>81.36</td>\n",
       "      <td>3</td>\n",
       "      <td>202</td>\n",
       "    </tr>\n",
       "    <tr>\n",
       "      <th>99437</th>\n",
       "      <td>fffeda5b6d849fbd39689bb92087f431</td>\n",
       "      <td>63.13</td>\n",
       "      <td>1</td>\n",
       "      <td>148</td>\n",
       "    </tr>\n",
       "    <tr>\n",
       "      <th>99438</th>\n",
       "      <td>ffff42319e9b2d713724ae527742af25</td>\n",
       "      <td>214.13</td>\n",
       "      <td>1</td>\n",
       "      <td>126</td>\n",
       "    </tr>\n",
       "    <tr>\n",
       "      <th>99439</th>\n",
       "      <td>ffffa3172527f765de70084a7e53aae8</td>\n",
       "      <td>45.50</td>\n",
       "      <td>1</td>\n",
       "      <td>410</td>\n",
       "    </tr>\n",
       "    <tr>\n",
       "      <th>99440</th>\n",
       "      <td>ffffe8b65bbe3087b653a978c870db99</td>\n",
       "      <td>18.37</td>\n",
       "      <td>1</td>\n",
       "      <td>383</td>\n",
       "    </tr>\n",
       "  </tbody>\n",
       "</table>\n",
       "<p>99441 rows × 4 columns</p>\n",
       "</div>"
      ],
      "text/plain": [
       "                          Client_unique  Somme_totale  Fréquence  Intervalle\n",
       "0      00012a2ce6f8dcda20d059ce98491703        114.74          1         337\n",
       "1      000161a058600d5901f007fab4c27140         67.41          1         458\n",
       "2      0001fd6190edaaf884bcaf3d49edf079        195.42          1         596\n",
       "3      0002414f95344307404f0ace7a26f1d5        179.35          1         427\n",
       "4      000379cdec625522490c315e70c7a9fb        107.01          1         198\n",
       "...                                 ...           ...        ...         ...\n",
       "99436  fffecc9f79fd8c764f843e9951b11341         81.36          3         202\n",
       "99437  fffeda5b6d849fbd39689bb92087f431         63.13          1         148\n",
       "99438  ffff42319e9b2d713724ae527742af25        214.13          1         126\n",
       "99439  ffffa3172527f765de70084a7e53aae8         45.50          1         410\n",
       "99440  ffffe8b65bbe3087b653a978c870db99         18.37          1         383\n",
       "\n",
       "[99441 rows x 4 columns]"
      ]
     },
     "execution_count": 37,
     "metadata": {},
     "output_type": "execute_result"
    }
   ],
   "source": [
    "first=pd.merge(payment_par_clients,frequence,on='customer_id')\n",
    "pfdt=pd.merge(first,dernière_transaction,on='customer_id')\n",
    "pfdt.drop(['order_purchase_timestamp'],axis=1,inplace=True)\n",
    "pfdt.columns=['Client_unique','Somme_totale','Fréquence','Intervalle']\n",
    "pfdt"
   ]
  },
  {
   "cell_type": "code",
   "execution_count": 38,
   "metadata": {},
   "outputs": [
    {
     "data": {
      "text/plain": [
       "count     99441\n",
       "unique        2\n",
       "top       False\n",
       "freq      96480\n",
       "Name: Fréquence, dtype: object"
      ]
     },
     "execution_count": 38,
     "metadata": {},
     "output_type": "execute_result"
    }
   ],
   "source": [
    "habitués_mask= pfdt['Fréquence'] > 1\n",
    "non_habitués_mask = pfdt['Fréquence'] == 1\n",
    "habitués_mask.describe()"
   ]
  },
  {
   "cell_type": "markdown",
   "metadata": {},
   "source": [
    "### Seulement 3% des clients font plus d'un achat"
   ]
  },
  {
   "cell_type": "code",
   "execution_count": 39,
   "metadata": {},
   "outputs": [
    {
     "data": {
      "text/plain": [
       "2.977645035749843"
      ]
     },
     "execution_count": 39,
     "metadata": {},
     "output_type": "execute_result"
    }
   ],
   "source": [
    "(1-(96480/99441))*100"
   ]
  },
  {
   "cell_type": "code",
   "execution_count": 40,
   "metadata": {},
   "outputs": [
    {
     "name": "stderr",
     "output_type": "stream",
     "text": [
      "C:\\Users\\USER\\anaconda3\\lib\\site-packages\\seaborn\\distributions.py:2551: FutureWarning: `distplot` is a deprecated function and will be removed in a future version. Please adapt your code to use either `displot` (a figure-level function with similar flexibility) or `histplot` (an axes-level function for histograms).\n"
     ]
    },
    {
     "data": {
      "image/png": "[encoded data removed]",
      "text/plain": [
       "<Figure size 864x720 with 3 Axes>"
      ]
     },
     "metadata": {
      "needs_background": "light"
     },
     "output_type": "display_data"
    }
   ],
   "source": [
    "plt.figure(figsize=(12,10))\n",
    "plt.subplot(3, 1, 1); sns.distplot(pfdt['Somme_totale'],kde=False)\n",
    "plt.subplot(3, 1, 2); sns.distplot(pfdt['Fréquence'],kde=False)\n",
    "plt.subplot(3, 1, 3); sns.distplot(pfdt['Intervalle'],kde=False)\n",
    "plt.show()"
   ]
  },
  {
   "cell_type": "code",
   "execution_count": 41,
   "metadata": {},
   "outputs": [
    {
     "data": {
      "text/html": [
       "<div>\n",
       "<style scoped>\n",
       "    .dataframe tbody tr th:only-of-type {\n",
       "        vertical-align: middle;\n",
       "    }\n",
       "\n",
       "    .dataframe tbody tr th {\n",
       "        vertical-align: top;\n",
       "    }\n",
       "\n",
       "    .dataframe thead th {\n",
       "        text-align: right;\n",
       "    }\n",
       "</style>\n",
       "<table border=\"1\" class=\"dataframe\">\n",
       "  <thead>\n",
       "    <tr style=\"text-align: right;\">\n",
       "      <th></th>\n",
       "      <th>Somme_totale</th>\n",
       "      <th>Fréquence</th>\n",
       "      <th>Intervalle</th>\n",
       "    </tr>\n",
       "  </thead>\n",
       "  <tbody>\n",
       "    <tr>\n",
       "      <th>count</th>\n",
       "      <td>99441.000000</td>\n",
       "      <td>99441.000000</td>\n",
       "      <td>99441.000000</td>\n",
       "    </tr>\n",
       "    <tr>\n",
       "      <th>mean</th>\n",
       "      <td>160.988648</td>\n",
       "      <td>1.044710</td>\n",
       "      <td>289.900192</td>\n",
       "    </tr>\n",
       "    <tr>\n",
       "      <th>std</th>\n",
       "      <td>221.950728</td>\n",
       "      <td>0.381164</td>\n",
       "      <td>153.667316</td>\n",
       "    </tr>\n",
       "    <tr>\n",
       "      <th>min</th>\n",
       "      <td>0.000000</td>\n",
       "      <td>1.000000</td>\n",
       "      <td>0.000000</td>\n",
       "    </tr>\n",
       "    <tr>\n",
       "      <th>1%</th>\n",
       "      <td>22.380000</td>\n",
       "      <td>1.000000</td>\n",
       "      <td>57.000000</td>\n",
       "    </tr>\n",
       "    <tr>\n",
       "      <th>10%</th>\n",
       "      <td>39.600000</td>\n",
       "      <td>1.000000</td>\n",
       "      <td>91.000000</td>\n",
       "    </tr>\n",
       "    <tr>\n",
       "      <th>50%</th>\n",
       "      <td>105.290000</td>\n",
       "      <td>1.000000</td>\n",
       "      <td>271.000000</td>\n",
       "    </tr>\n",
       "    <tr>\n",
       "      <th>90%</th>\n",
       "      <td>308.240000</td>\n",
       "      <td>1.000000</td>\n",
       "      <td>518.000000</td>\n",
       "    </tr>\n",
       "    <tr>\n",
       "      <th>99%</th>\n",
       "      <td>1075.794000</td>\n",
       "      <td>2.000000</td>\n",
       "      <td>625.000000</td>\n",
       "    </tr>\n",
       "    <tr>\n",
       "      <th>max</th>\n",
       "      <td>13664.080000</td>\n",
       "      <td>29.000000</td>\n",
       "      <td>772.000000</td>\n",
       "    </tr>\n",
       "  </tbody>\n",
       "</table>\n",
       "</div>"
      ],
      "text/plain": [
       "       Somme_totale     Fréquence    Intervalle\n",
       "count  99441.000000  99441.000000  99441.000000\n",
       "mean     160.988648      1.044710    289.900192\n",
       "std      221.950728      0.381164    153.667316\n",
       "min        0.000000      1.000000      0.000000\n",
       "1%        22.380000      1.000000     57.000000\n",
       "10%       39.600000      1.000000     91.000000\n",
       "50%      105.290000      1.000000    271.000000\n",
       "90%      308.240000      1.000000    518.000000\n",
       "99%     1075.794000      2.000000    625.000000\n",
       "max    13664.080000     29.000000    772.000000"
      ]
     },
     "execution_count": 41,
     "metadata": {},
     "output_type": "execute_result"
    }
   ],
   "source": [
    "describe=['Somme_totale','Fréquence','Intervalle']\n",
    "pfdt[describe].describe(percentiles=[ .01 , .1, .5, .9, .99 ])"
   ]
  },
  {
   "cell_type": "markdown",
   "metadata": {},
   "source": [
    "#### Le panier moyen est de 160 pour une seule opération. Seulement 10% des clients ont dépensé plus de 310 unités de prix.  Il se passe 289 jours en moyenne entre le dernier achat d'un client et aujourd'hui. Seulement 1% des clients réitèrent leur achat en moins de 57 jours. "
   ]
  },
  {
   "cell_type": "markdown",
   "metadata": {},
   "source": [
    "#### Nous pouvons maintenant créer un score pour chaque client. "
   ]
  },
  {
   "cell_type": "code",
   "execution_count": 42,
   "metadata": {},
   "outputs": [
    {
     "data": {
      "text/plain": [
       "{'Somme_totale': {0.25: 62.01, 0.5: 105.29, 0.75: 176.97},\n",
       " 'Fréquence': {0.25: 1.0, 0.5: 1.0, 0.75: 1.0},\n",
       " 'Intervalle': {0.25: 166.0, 0.5: 271.0, 0.75: 400.0}}"
      ]
     },
     "execution_count": 42,
     "metadata": {},
     "output_type": "execute_result"
    }
   ],
   "source": [
    "quantiles = pfdt.quantile(q=[0.25,0.5,0.75])\n",
    "quantiles.to_dict()"
   ]
  },
  {
   "cell_type": "code",
   "execution_count": 43,
   "metadata": {},
   "outputs": [],
   "source": [
    "# Soit x le score, p les attributs du client et d le quartile associé.\n",
    "def RScore(x,p,d): #RecencyScore\n",
    "    if x <= d[p][0.25]:\n",
    "        return 4\n",
    "    elif x <= d[p][0.50]:\n",
    "        return 3\n",
    "    elif x <= d[p][0.75]: \n",
    "        return 2\n",
    "    else:\n",
    "        return 1\n",
    "    \n",
    "# k représente quartile associé aux quartiles de fréquence et monetary associés. \n",
    "def FMScore(x,p,d):\n",
    "    if x <= d[p][0.25]:\n",
    "        return 1\n",
    "    elif x <= d[p][0.50]:\n",
    "        return 2\n",
    "    elif x <= d[p][0.75]: \n",
    "        return 3\n",
    "    else:\n",
    "        return 4"
   ]
  },
  {
   "cell_type": "code",
   "execution_count": 44,
   "metadata": {
    "scrolled": true
   },
   "outputs": [
    {
     "data": {
      "text/html": [
       "<div>\n",
       "<style scoped>\n",
       "    .dataframe tbody tr th:only-of-type {\n",
       "        vertical-align: middle;\n",
       "    }\n",
       "\n",
       "    .dataframe tbody tr th {\n",
       "        vertical-align: top;\n",
       "    }\n",
       "\n",
       "    .dataframe thead th {\n",
       "        text-align: right;\n",
       "    }\n",
       "</style>\n",
       "<table border=\"1\" class=\"dataframe\">\n",
       "  <thead>\n",
       "    <tr style=\"text-align: right;\">\n",
       "      <th></th>\n",
       "      <th>Client_unique</th>\n",
       "      <th>Somme_totale</th>\n",
       "      <th>Fréquence</th>\n",
       "      <th>Intervalle</th>\n",
       "      <th>R_Quartile</th>\n",
       "      <th>F_Quartile</th>\n",
       "      <th>M_Quartile</th>\n",
       "      <th>RFMScore</th>\n",
       "    </tr>\n",
       "  </thead>\n",
       "  <tbody>\n",
       "    <tr>\n",
       "      <th>0</th>\n",
       "      <td>00012a2ce6f8dcda20d059ce98491703</td>\n",
       "      <td>114.74</td>\n",
       "      <td>1</td>\n",
       "      <td>337</td>\n",
       "      <td>2</td>\n",
       "      <td>1</td>\n",
       "      <td>3</td>\n",
       "      <td>213</td>\n",
       "    </tr>\n",
       "    <tr>\n",
       "      <th>1</th>\n",
       "      <td>000161a058600d5901f007fab4c27140</td>\n",
       "      <td>67.41</td>\n",
       "      <td>1</td>\n",
       "      <td>458</td>\n",
       "      <td>1</td>\n",
       "      <td>1</td>\n",
       "      <td>2</td>\n",
       "      <td>112</td>\n",
       "    </tr>\n",
       "    <tr>\n",
       "      <th>2</th>\n",
       "      <td>0001fd6190edaaf884bcaf3d49edf079</td>\n",
       "      <td>195.42</td>\n",
       "      <td>1</td>\n",
       "      <td>596</td>\n",
       "      <td>1</td>\n",
       "      <td>1</td>\n",
       "      <td>4</td>\n",
       "      <td>114</td>\n",
       "    </tr>\n",
       "    <tr>\n",
       "      <th>3</th>\n",
       "      <td>0002414f95344307404f0ace7a26f1d5</td>\n",
       "      <td>179.35</td>\n",
       "      <td>1</td>\n",
       "      <td>427</td>\n",
       "      <td>1</td>\n",
       "      <td>1</td>\n",
       "      <td>4</td>\n",
       "      <td>114</td>\n",
       "    </tr>\n",
       "    <tr>\n",
       "      <th>4</th>\n",
       "      <td>000379cdec625522490c315e70c7a9fb</td>\n",
       "      <td>107.01</td>\n",
       "      <td>1</td>\n",
       "      <td>198</td>\n",
       "      <td>3</td>\n",
       "      <td>1</td>\n",
       "      <td>3</td>\n",
       "      <td>313</td>\n",
       "    </tr>\n",
       "  </tbody>\n",
       "</table>\n",
       "</div>"
      ],
      "text/plain": [
       "                      Client_unique  Somme_totale  Fréquence  Intervalle  \\\n",
       "0  00012a2ce6f8dcda20d059ce98491703        114.74          1         337   \n",
       "1  000161a058600d5901f007fab4c27140         67.41          1         458   \n",
       "2  0001fd6190edaaf884bcaf3d49edf079        195.42          1         596   \n",
       "3  0002414f95344307404f0ace7a26f1d5        179.35          1         427   \n",
       "4  000379cdec625522490c315e70c7a9fb        107.01          1         198   \n",
       "\n",
       "   R_Quartile  F_Quartile  M_Quartile RFMScore  \n",
       "0           2           1           3      213  \n",
       "1           1           1           2      112  \n",
       "2           1           1           4      114  \n",
       "3           1           1           4      114  \n",
       "4           3           1           3      313  "
      ]
     },
     "execution_count": 44,
     "metadata": {},
     "output_type": "execute_result"
    }
   ],
   "source": [
    "#create rfm segmentation table\n",
    "rfm_segmentation = pfdt\n",
    "rfm_segmentation['R_Quartile'] = rfm_segmentation['Intervalle'].apply(RScore, args=('Intervalle',quantiles,))\n",
    "rfm_segmentation['F_Quartile'] = rfm_segmentation['Fréquence'].apply(FMScore, args=('Fréquence',quantiles,))\n",
    "rfm_segmentation['M_Quartile'] = rfm_segmentation['Somme_totale'].apply(FMScore, args=('Somme_totale',quantiles,))\n",
    "rfm_segmentation['RFMScore'] = rfm_segmentation.R_Quartile.map(str) \\\n",
    "                            + rfm_segmentation.F_Quartile.map(str) \\\n",
    "                            + rfm_segmentation.M_Quartile.map(str)\n",
    "rfm_segmentation.head()"
   ]
  },
  {
   "cell_type": "markdown",
   "metadata": {},
   "source": [
    "### Combien de clients pour chaque segmentation"
   ]
  },
  {
   "cell_type": "code",
   "execution_count": 45,
   "metadata": {},
   "outputs": [
    {
     "name": "stdout",
     "output_type": "stream",
     "text": [
      "Meilleurs clients:  183\n",
      "Clients récurrents:  2961\n",
      "Clients dépensiers:  24859\n",
      "Clients bientôt perdus:  181\n",
      "Meilleurs Clients perdus 197\n",
      "Clients passagers peu importants:  6171\n"
     ]
    }
   ],
   "source": [
    "print(\"Meilleurs clients: \",len(rfm_segmentation[rfm_segmentation['RFMScore']=='444']))\n",
    "print('Clients récurrents: ',len(rfm_segmentation[rfm_segmentation['F_Quartile']==4]))\n",
    "print(\"Clients dépensiers: \",len(rfm_segmentation[rfm_segmentation['M_Quartile']==4]))\n",
    "print('Clients bientôt perdus: ', len(rfm_segmentation[rfm_segmentation['RFMScore']=='244']))\n",
    "print('Meilleurs Clients perdus',len(rfm_segmentation[rfm_segmentation['RFMScore']=='144']))\n",
    "print('Clients passagers peu importants: ',len(rfm_segmentation[rfm_segmentation['RFMScore']=='111']))"
   ]
  },
  {
   "cell_type": "markdown",
   "metadata": {},
   "source": [
    "### Le concept de la RFM segmentation a été pensé par Jan Roelf et Tom Wansbeek. Dans l'article \"Optimal Selection for Direct Mail\" paru en 1995 dans la revue Marketing Science, ils expliquent que 80% de l'activité repose sur 20% de clients concernés. Voici donc la liste des clients sur lesquels nous devons porter une attention particulière: "
   ]
  },
  {
   "cell_type": "markdown",
   "metadata": {},
   "source": [
    "### Voici la liste des clients que l'on considerera VIP. Ces clients ont le meilleur score. Nous pouvons leur proposer un bon d'achat. Ils représentent moins de 1% de la clientèle. "
   ]
  },
  {
   "cell_type": "code",
   "execution_count": 46,
   "metadata": {},
   "outputs": [],
   "source": [
    "df=rfm_segmentation\n",
    "Clients_VIP= df.loc[df.RFMScore=='444']\n",
    "List_Clients_VIP=Clients_VIP['Client_unique'].tolist()"
   ]
  },
  {
   "cell_type": "markdown",
   "metadata": {},
   "source": [
    "### Voici la liste des clients que l'on considerera comme dépensiers. Ces clients ont un score de 4 en Monetary. Ils sont 24 859 au total ( 25% de la clientèle ). Cependant, ils ont dépensé à hauteur de 9 493 956. Cette somme représente plus de 50 % des dépenses totales."
   ]
  },
  {
   "cell_type": "code",
   "execution_count": 47,
   "metadata": {},
   "outputs": [],
   "source": [
    "Clients_dépensiers = df.loc[df.M_Quartile==4]\n",
    "#Clients_dépensiers['Somme_totale'].sum() = 9 493 956\n",
    "#df['Somme_totale'].sum() = 16 008 872.12\n",
    "List_clients_dépensiers=Clients_dépensiers['Client_unique'].tolist()\n"
   ]
  },
  {
   "cell_type": "markdown",
   "metadata": {},
   "source": [
    "### Pour finir, voici la liste des clients que l'on considerera comme récurrents. Ces clients ont un score de 4 en Frequency. Ils sont 2 961 au total ( 3% de la clientèle ) et représentent 7% des transactions totales. Il faut inciter ces clients à réiterer leurs achats, par exemple à travers un programme de fidélité. "
   ]
  },
  {
   "cell_type": "code",
   "execution_count": 59,
   "metadata": {},
   "outputs": [],
   "source": [
    "Clients_récurrents = df.loc[df.F_Quartile==4]\n",
    "#Clients_récurrents['Fréquence'].sum()= 7 407\n",
    "# df['Fréquence'].sum() 103 887\n",
    "# 7407/103887 = 7,12%.\n",
    "List_clients_dépensiers=Clients_dépensiers['Client_unique'].tolist()"
   ]
  },
  {
   "cell_type": "markdown",
   "metadata": {},
   "source": [
    "# BIBLIOGRAPHIE"
   ]
  },
  {
   "cell_type": "markdown",
   "metadata": {},
   "source": [
    "Vous pourrez trouver la ittérature concernant le RFM score sur ces pages: \n",
    "    \n",
    "https://www.investopedia.com/terms/r/rfm-recency-frequency-monetary-value.asp#:~:text=Recency%2C%20frequency%2C%20monetary%20value%20is,a%20customer%20makes%20a%20purchase\n",
    "\n",
    "https://www.e-marketing.fr/Thematique/academie-1078/fiche-outils-10154/scoring-RFM-306775.htm\n",
    "\n",
    "https://www.cartelis.com/blog/segmentation-rfm-definition-calcul/"
   ]
  },
  {
   "cell_type": "markdown",
   "metadata": {},
   "source": [
    "Notebooks qui m'ont été utiles:\n",
    "\n",
    "https://www.kaggle.com/ashikm96/e-commerce-analysis-olist-data\n",
    "    \n",
    "https://www.kaggle.com/pigortekids/predicting-score-from-commentaries-in-e-commerce"
   ]
  },
  {
   "cell_type": "code",
   "execution_count": null,
   "metadata": {},
   "outputs": [],
   "source": []
  }
 ],
 "metadata": {
  "kernelspec": {
   "display_name": "Python 3",
   "language": "python",
   "name": "python3"
  },
  "language_info": {
   "codemirror_mode": {
    "name": "ipython",
    "version": 3
   },
   "file_extension": ".py",
   "mimetype": "text/x-python",
   "name": "python",
   "nbconvert_exporter": "python",
   "pygments_lexer": "ipython3",
   "version": "3.8.5"
  }
 },
 "nbformat": 4,
 "nbformat_minor": 4
}
